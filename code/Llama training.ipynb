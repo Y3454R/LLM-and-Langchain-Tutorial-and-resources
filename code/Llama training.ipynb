{
 "cells": [
  {
   "cell_type": "code",
   "execution_count": null,
   "id": "6eea9e9c",
   "metadata": {},
   "outputs": [],
   "source": [
    "path=\"/home/drmohammad/Documents/LLM/dataset/my-llm\""
   ]
  },
  {
   "cell_type": "code",
   "execution_count": null,
   "id": "fe85f25b",
   "metadata": {},
   "outputs": [],
   "source": [
    "# huggingface-cli login --token"
   ]
  },
  {
   "cell_type": "code",
   "execution_count": null,
   "id": "5a4a49bf",
   "metadata": {},
   "outputs": [],
   "source": [
    "from sklearn.model_selection import train_test_split\n",
    "import pandas as pd\n",
    "df=pd.read_csv(\"experiment/data.csv\")\n",
    "train, test = train_test_split(df, test_size=0.1)\n",
    "train.to_csv(\"experiment/train.csv\",index=False)\n",
    "test.to_csv(\"experiment/test.csv\",index=False)"
   ]
  },
  {
   "cell_type": "code",
   "execution_count": 3,
   "id": "7daa7a68",
   "metadata": {},
   "outputs": [
    {
     "name": "stdout",
     "output_type": "stream",
     "text": [
      "bin /home/drmohammad/anaconda3/envs/hugging1/lib/python3.9/site-packages/bitsandbytes/libbitsandbytes_cuda118.so\n",
      "\u001b[32m2023-07-24 19:32:35.541\u001b[0m | \u001b[1mINFO    \u001b[0m | \u001b[36mautotrain.cli.run_llm\u001b[0m:\u001b[36mrun\u001b[0m:\u001b[36m446\u001b[0m - \u001b[1mRunning LLM\u001b[0m\n",
      "\u001b[32m2023-07-24 19:32:35.541\u001b[0m | \u001b[1mINFO    \u001b[0m | \u001b[36mautotrain.cli.run_llm\u001b[0m:\u001b[36mrun\u001b[0m:\u001b[36m447\u001b[0m - \u001b[1mTrain: True\u001b[0m\n",
      "/home/drmohammad/Documents/LLM/llm testing/experiment <class 'str'>\n",
      "Loading train set\n",
      "\u001b[32m2023-07-24 19:32:35.541\u001b[0m | \u001b[1mINFO    \u001b[0m | \u001b[36mautotrain.trainers.clm\u001b[0m:\u001b[36mtrain\u001b[0m:\u001b[36m37\u001b[0m - \u001b[1mloading dataset from csv\u001b[0m\n",
      "Loading test set\n",
      "\u001b[32m2023-07-24 19:32:38.228\u001b[0m | \u001b[1mINFO    \u001b[0m | \u001b[36mautotrain.trainers.clm\u001b[0m:\u001b[36mtrain\u001b[0m:\u001b[36m51\u001b[0m - \u001b[1mloading dataset from csv\u001b[0m\n",
      "Using pad_token, but it is not set yet.\n",
      "The model weights are not tied. Please use the `tie_weights` method before using the `infer_auto_device` function.\n",
      "Loading checkpoint shards: 100%|██████████████████| 2/2 [00:01<00:00,  1.12it/s]\n",
      "/home/drmohammad/anaconda3/envs/hugging1/lib/python3.9/site-packages/peft/utils/other.py:102: FutureWarning: prepare_model_for_int8_training is deprecated and will be removed in a future version. Use prepare_model_for_kbit_training instead.\n",
      "  warnings.warn(\n",
      "\u001b[32m2023-07-24 19:32:46.947\u001b[0m | \u001b[1mINFO    \u001b[0m | \u001b[36mautotrain.trainers.clm\u001b[0m:\u001b[36mtrain\u001b[0m:\u001b[36m195\u001b[0m - \u001b[1mcreating trainer\u001b[0m\n",
      "  0%|                                                 | 0/60213 [00:00<?, ?it/s]Token indices sequence length is longer than the specified maximum sequence length for this model (1042 > 1024). Running this sequence through the model will result in indexing errors\n",
      "You're using a LlamaTokenizerFast tokenizer. Please note that with a fast tokenizer, using the `__call__` method is faster than using a method to encode the text followed by a call to the `pad` method to get a padded encoding.\n",
      "{'loss': 1.5591, 'learning_rate': 7.007638658253073e-06, 'epoch': 0.01}         \n",
      "  0%|▏                                  | 259/60213 [55:31<207:26:01, 12.46s/it]^C\n"
     ]
    }
   ],
   "source": [
    "!autotrain llm --train --project_name my-llm --model meta-llama/Llama-2-7b-hf --data_path \"/home/drmohammad/Documents/LLM/llm testing/experiment\" --train_split \"train\" --valid_split \"test\" --text_column \"text\" --use_peft --use_int4 --learning_rate 2e-4 --train_batch_size 10 --num_train_epochs 3 --trainer sft"
   ]
  },
  {
   "cell_type": "code",
   "execution_count": null,
   "id": "3defa715",
   "metadata": {},
   "outputs": [],
   "source": [
    "!autotrain llm --train --project_name my-llm --model meta-llama/Llama-2-7b-hf --data_path \"/home/drmohammad/Documents/LLM/llm testing/experiment\" --train_split \"train\" --valid_split \"test\" --text_column \"text\" --use_peft --use_int4 --learning_rate 2e-4 --train_batch_size 10 --num_train_epochs 1 --trainer sft"
   ]
  },
  {
   "cell_type": "code",
   "execution_count": 1,
   "id": "880dde39",
   "metadata": {},
   "outputs": [
    {
     "name": "stdout",
     "output_type": "stream",
     "text": [
      "bin /home/drmohammad/anaconda3/envs/hugging1/lib/python3.9/site-packages/bitsandbytes/libbitsandbytes_cuda118.so\n",
      "usage: autotrain <command> [<args>]\n",
      "AutoTrain advanced CLI: error: unrecognized arguments: True\n"
     ]
    }
   ],
   "source": [
    "!autotrain llm --train --project_name my-llm --model meta-llama/Llama-2-7b-hf --data_path \"/home/drmohammad/Documents/LLM/llm testing/experiment\" --train_split \"train\" --valid_split \"test\" --text_column \"text\" --use_peft --use_int4 --learning_rate 2e-4 --auto_find_batch_size True --num_train_epochs 1 --trainer sft"
   ]
  },
  {
   "cell_type": "code",
   "execution_count": null,
   "id": "2f1b1f77",
   "metadata": {},
   "outputs": [],
   "source": [
    "from transformers import AutoTokenizer\n",
    "import transformers\n",
    "import torch\n",
    "\n",
    "model = r\"/home/drmohammad/Documents/LLM/llm testing/experiment/my-llm\"\n",
    "\n",
    "tokenizer = AutoTokenizer.from_pretrained(model)\n",
    "pipeline = transformers.pipeline(\n",
    "    \"text-generation\",\n",
    "    model=model,\n",
    "    torch_dtype=torch.float16,\n",
    "    device_map=\"auto\",\n",
    ")\n",
    "\n",
    "sequences = pipeline(\n",
    "    'Bitcoin wasn\\'t built to live on exchanges. what is the response of this text?\\n',\n",
    "    do_sample=True,\n",
    "    top_k=10,\n",
    "    num_return_sequences=1,\n",
    "    eos_token_id=tokenizer.eos_token_id,\n",
    "    max_length=200,\n",
    ")\n",
    "for seq in sequences:\n",
    "    print(f\"Result: {seq['generated_text']}\")\n"
   ]
  },
  {
   "cell_type": "code",
   "execution_count": null,
   "id": "cd78f309",
   "metadata": {},
   "outputs": [],
   "source": [
    "from datasets import load_dataset\n",
    "import pandas as pd\n",
    "df = pd.read_csv(\"bitcoin-sentiment-tweets.csv\")"
   ]
  },
  {
   "cell_type": "code",
   "execution_count": null,
   "id": "ba2b44a8",
   "metadata": {},
   "outputs": [],
   "source": [
    "data = load_dataset(\"json\", data_files=r\"/home/drmohammad/Documents/LLM/llm testing/alpaca-bitcoin-sentiment-dataset.json\")\n",
    "data[\"train\"]"
   ]
  },
  {
   "cell_type": "code",
   "execution_count": null,
   "id": "6de04294",
   "metadata": {},
   "outputs": [],
   "source": []
  },
  {
   "cell_type": "code",
   "execution_count": null,
   "id": "522eb7dd",
   "metadata": {},
   "outputs": [],
   "source": []
  },
  {
   "cell_type": "markdown",
   "id": "64bef7fd",
   "metadata": {},
   "source": [
    "Create data prompt for the model"
   ]
  },
  {
   "cell_type": "code",
   "execution_count": null,
   "id": "2768bd17",
   "metadata": {},
   "outputs": [],
   "source": [
    "def generate_prompt(data_point):\n",
    "    return f\"\"\"Below is an instruction that describes a task, paired with an input that provides further context. Write a response that appropriately completes the request.  # noqa: E501\n",
    "### Instruction:\n",
    "{data_point[\"instruction\"]}\n",
    "### Input:\n",
    "{data_point[\"input\"]}\n",
    "### Response:\n",
    "{data_point[\"output\"]}\"\"\"\n",
    "\n",
    "def data_gen(ex):\n",
    "    ex['text']=generate_prompt(ex)\n",
    "    return ex"
   ]
  },
  {
   "cell_type": "code",
   "execution_count": null,
   "id": "966bc6eb",
   "metadata": {},
   "outputs": [],
   "source": [
    "train_data = (\n",
    "    data[\"train\"].map(data_gen)\n",
    ")"
   ]
  },
  {
   "cell_type": "code",
   "execution_count": null,
   "id": "1865977d",
   "metadata": {},
   "outputs": [],
   "source": [
    "df=pd.DataFrame(train_data)\n",
    "df.to_csv(\"data.csv\",index=False)"
   ]
  },
  {
   "cell_type": "markdown",
   "id": "1d6d1bab",
   "metadata": {},
   "source": [
    "Inference"
   ]
  },
  {
   "cell_type": "code",
   "execution_count": null,
   "id": "0015bda4",
   "metadata": {},
   "outputs": [],
   "source": [
    "import torch\n",
    "model_path = r\"/home/drmohammad/Documents/LLM/llm testing/experiment/my-llm\""
   ]
  },
  {
   "cell_type": "code",
   "execution_count": null,
   "id": "eda91249",
   "metadata": {},
   "outputs": [],
   "source": [
    "from transformers import AutoModelForSeq2SeqLM\n",
    "from peft import PeftModel, PeftConfig\n",
    "from transformers import LlamaTokenizer, LlamaForCausalLM, GenerationConfig\n",
    "device = torch.device(\"cuda\") if torch.cuda.is_available() else torch.device(\"cpu\")\n",
    "tokenizer = LlamaTokenizer.from_pretrained(model_path)\n",
    " \n",
    "model = LlamaForCausalLM.from_pretrained(\n",
    "    model_path,\n",
    "    load_in_8bit=True,\n",
    "    device_map=\"auto\",\n",
    ")\n",
    "\n",
    "\n",
    "\n",
    "model.eval()\n",
    "inputs = tokenizer(\"Buddy if I had whatever series of 19th diseases Bannon clearly has I'd want to be a bitcoin too. what is the response of this text?\", return_tensors=\"pt\")\n",
    "\n",
    "with torch.no_grad():\n",
    "    outputs = model.generate(input_ids=inputs[\"input_ids\"].to(\"cuda\"), max_new_tokens=10)\n",
    "    print(tokenizer.batch_decode(outputs.detach().cpu().numpy(), skip_special_tokens=True)[0])\n",
    "\n"
   ]
  },
  {
   "cell_type": "code",
   "execution_count": null,
   "id": "78eb2d88",
   "metadata": {},
   "outputs": [],
   "source": []
  },
  {
   "cell_type": "markdown",
   "id": "7c0901c5",
   "metadata": {},
   "source": [
    "Inference"
   ]
  },
  {
   "cell_type": "code",
   "execution_count": 17,
   "id": "0bdcb5a5",
   "metadata": {},
   "outputs": [
    {
     "name": "stdout",
     "output_type": "stream",
     "text": [
      "\n",
      "===================================BUG REPORT===================================\n",
      "Welcome to bitsandbytes. For bug reports, please run\n",
      "\n",
      "python -m bitsandbytes\n",
      "\n",
      " and submit this information together with your error trace to: https://github.com/TimDettmers/bitsandbytes/issues\n",
      "================================================================================\n",
      "bin /home/drmohammad/anaconda3/envs/hugging1/lib/python3.9/site-packages/bitsandbytes/libbitsandbytes_cuda118.so\n",
      "CUDA SETUP: CUDA runtime path found: /home/drmohammad/anaconda3/envs/hugging1/lib/libcudart.so.11.0\n",
      "CUDA SETUP: Highest compute capability among GPUs detected: 8.6\n",
      "CUDA SETUP: Detected CUDA version 118\n",
      "CUDA SETUP: Loading binary /home/drmohammad/anaconda3/envs/hugging1/lib/python3.9/site-packages/bitsandbytes/libbitsandbytes_cuda118.so...\n"
     ]
    },
    {
     "name": "stderr",
     "output_type": "stream",
     "text": [
      "/home/drmohammad/anaconda3/envs/hugging1/lib/python3.9/site-packages/bitsandbytes/cuda_setup/main.py:149: UserWarning: Found duplicate ['libcudart.so', 'libcudart.so.11.0', 'libcudart.so.12.0'] files: {PosixPath('/home/drmohammad/anaconda3/envs/hugging1/lib/libcudart.so.11.0'), PosixPath('/home/drmohammad/anaconda3/envs/hugging1/lib/libcudart.so')}.. We'll flip a coin and try one of these, in order to fail forward.\n",
      "Either way, this might cause trouble in the future:\n",
      "If you get `CUDA error: invalid device function` errors, the above might be the cause and the solution is to make sure only one ['libcudart.so', 'libcudart.so.11.0', 'libcudart.so.12.0'] in the paths that we search based on your env.\n",
      "  warn(msg)\n",
      "The model weights are not tied. Please use the `tie_weights` method before using the `infer_auto_device` function.\n",
      "Loading checkpoint shards: 100%|██████████| 2/2 [00:05<00:00,  2.67s/it]\n",
      "Xformers is not installed correctly. If you want to use memory_efficient_attention to accelerate training use the following command to install Xformers\n",
      "pip install xformers.\n"
     ]
    },
    {
     "ename": "",
     "evalue": "",
     "output_type": "error",
     "traceback": [
      "\u001b[1;31mThe Kernel crashed while executing code in the the current cell or a previous cell. Please review the code in the cell(s) to identify a possible cause of the failure. Click <a href='https://aka.ms/vscodeJupyterKernelCrash'>here</a> for more info. View Jupyter <a href='command:jupyter.viewOutput'>log</a> for further details."
     ]
    }
   ],
   "source": [
    "from langchain.llms import HuggingFacePipeline\n",
    "import torch\n",
    "from transformers import AutoTokenizer, AutoModelForCausalLM, pipeline, AutoModelForSeq2SeqLM\n",
    "import torch\n",
    "from transformers import LlamaTokenizer, LlamaForCausalLM, GenerationConfig\n",
    "model_path = r\"/home/drmohammad/Documents/LLM/llm testing/experiment/my-llm\"\n",
    "tokenizer = LlamaTokenizer.from_pretrained(model_path)\n",
    "model = LlamaForCausalLM.from_pretrained(\n",
    "    model_path,\n",
    "    load_in_8bit=True,\n",
    "    device_map=\"auto\",\n",
    ")\n",
    "pipe = pipeline(\n",
    "    \"text-generation\", \n",
    "    model=model, \n",
    "    tokenizer=tokenizer, \n",
    "    max_length=100\n",
    ")\n",
    "local_llm = HuggingFacePipeline(pipeline=pipe)"
   ]
  },
  {
   "cell_type": "code",
   "execution_count": null,
   "id": "f9bed3da",
   "metadata": {},
   "outputs": [],
   "source": [
    "from langchain import PromptTemplate\n",
    "from langchain.chat_models import ChatOpenAI\n",
    "from langchain.chains import LLMChain\n",
    "summary_template = \"\"\"\n",
    "         given the Linkedin information {information} about a person from I want you to create:\n",
    "         1. a short summary\n",
    "         2. two interesting facts about them\n",
    "     \"\"\"\n",
    "\n",
    "summary_prompt_template = PromptTemplate(\n",
    "        input_variables=[\"information\"], template=summary_template\n",
    "    )\n",
    "chain = LLMChain(llm=local_llm, prompt=summary_prompt_template)\n",
    "print(chain.run(information=\"what is the book?\"))"
   ]
  },
  {
   "cell_type": "code",
   "execution_count": null,
   "id": "6cf4b157",
   "metadata": {},
   "outputs": [],
   "source": []
  },
  {
   "cell_type": "code",
   "execution_count": null,
   "id": "f5120a98",
   "metadata": {},
   "outputs": [],
   "source": []
  },
  {
   "cell_type": "code",
   "execution_count": null,
   "id": "8e0a9b2a",
   "metadata": {},
   "outputs": [],
   "source": []
  }
 ],
 "metadata": {
  "interpreter": {
   "hash": "13bf4f41b44d569fb42cda98089b9a8023fba74126e96c54c8f2e63f2d74dfb7"
  },
  "kernelspec": {
   "display_name": "Python 3.9.0 ('hugging1')",
   "language": "python",
   "name": "python3"
  },
  "language_info": {
   "codemirror_mode": {
    "name": "ipython",
    "version": 3
   },
   "file_extension": ".py",
   "mimetype": "text/x-python",
   "name": "python",
   "nbconvert_exporter": "python",
   "pygments_lexer": "ipython3",
   "version": "3.9.0"
  }
 },
 "nbformat": 4,
 "nbformat_minor": 5
}
