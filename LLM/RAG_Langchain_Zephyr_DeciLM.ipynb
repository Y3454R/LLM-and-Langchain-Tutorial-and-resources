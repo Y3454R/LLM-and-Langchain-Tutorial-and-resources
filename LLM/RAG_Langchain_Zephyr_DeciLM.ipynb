{
  "cells": [
    {
      "cell_type": "markdown",
      "metadata": {
        "id": "J1hL9Ra9C975"
      },
      "source": [
        "\n",
        "# Implementation of RAG, using:\n",
        "* Langchain\n",
        "* FAISS\n",
        "* Sentence-transformers\n",
        "* an LLM: we will provide examples with Flan-alpaca-large, Zephyr-7b-beta and DeciLM-7b\n",
        "\n"
      ]
    },
    {
      "cell_type": "markdown",
      "metadata": {
        "id": "kO4A4ALxYWgQ"
      },
      "source": [
        "## Install required dependencies\n",
        "Langchain library is evolving very fast. If you use another version, some pieces of code may need to be changed."
      ]
    },
    {
      "cell_type": "code",
      "execution_count": 1,
      "metadata": {
        "id": "zQUOitxUC7Z4"
      },
      "outputs": [
        {
          "name": "stdout",
          "output_type": "stream",
          "text": [
            "Requirement already satisfied: langchain~=0.0.352 in /home/rtx3090/anaconda3/envs/LLMexper/lib/python3.11/site-packages (0.0.354)\n",
            "Requirement already satisfied: PyYAML>=5.3 in /home/rtx3090/anaconda3/envs/LLMexper/lib/python3.11/site-packages (from langchain~=0.0.352) (6.0.1)\n",
            "Requirement already satisfied: SQLAlchemy<3,>=1.4 in /home/rtx3090/anaconda3/envs/LLMexper/lib/python3.11/site-packages (from langchain~=0.0.352) (2.0.25)\n",
            "Requirement already satisfied: aiohttp<4.0.0,>=3.8.3 in /home/rtx3090/anaconda3/envs/LLMexper/lib/python3.11/site-packages (from langchain~=0.0.352) (3.9.0)\n",
            "Requirement already satisfied: dataclasses-json<0.7,>=0.5.7 in /home/rtx3090/anaconda3/envs/LLMexper/lib/python3.11/site-packages (from langchain~=0.0.352) (0.6.3)\n",
            "Requirement already satisfied: jsonpatch<2.0,>=1.33 in /home/rtx3090/anaconda3/envs/LLMexper/lib/python3.11/site-packages (from langchain~=0.0.352) (1.33)\n",
            "Requirement already satisfied: langchain-community<0.1,>=0.0.8 in /home/rtx3090/anaconda3/envs/LLMexper/lib/python3.11/site-packages (from langchain~=0.0.352) (0.0.8)\n",
            "Requirement already satisfied: langchain-core<0.2,>=0.1.5 in /home/rtx3090/anaconda3/envs/LLMexper/lib/python3.11/site-packages (from langchain~=0.0.352) (0.1.6)\n",
            "Requirement already satisfied: langsmith<0.1.0,>=0.0.77 in /home/rtx3090/anaconda3/envs/LLMexper/lib/python3.11/site-packages (from langchain~=0.0.352) (0.0.77)\n",
            "Requirement already satisfied: numpy<2,>=1 in /home/rtx3090/anaconda3/envs/LLMexper/lib/python3.11/site-packages (from langchain~=0.0.352) (1.24.4)\n",
            "Requirement already satisfied: pydantic<3,>=1 in /home/rtx3090/anaconda3/envs/LLMexper/lib/python3.11/site-packages (from langchain~=0.0.352) (2.2.1)\n",
            "Requirement already satisfied: requests<3,>=2 in /home/rtx3090/anaconda3/envs/LLMexper/lib/python3.11/site-packages (from langchain~=0.0.352) (2.31.0)\n",
            "Requirement already satisfied: tenacity<9.0.0,>=8.1.0 in /home/rtx3090/anaconda3/envs/LLMexper/lib/python3.11/site-packages (from langchain~=0.0.352) (8.2.3)\n",
            "Requirement already satisfied: attrs>=17.3.0 in /home/rtx3090/anaconda3/envs/LLMexper/lib/python3.11/site-packages (from aiohttp<4.0.0,>=3.8.3->langchain~=0.0.352) (23.1.0)\n",
            "Requirement already satisfied: multidict<7.0,>=4.5 in /home/rtx3090/anaconda3/envs/LLMexper/lib/python3.11/site-packages (from aiohttp<4.0.0,>=3.8.3->langchain~=0.0.352) (6.0.4)\n",
            "Requirement already satisfied: yarl<2.0,>=1.0 in /home/rtx3090/anaconda3/envs/LLMexper/lib/python3.11/site-packages (from aiohttp<4.0.0,>=3.8.3->langchain~=0.0.352) (1.9.3)\n",
            "Requirement already satisfied: frozenlist>=1.1.1 in /home/rtx3090/anaconda3/envs/LLMexper/lib/python3.11/site-packages (from aiohttp<4.0.0,>=3.8.3->langchain~=0.0.352) (1.4.0)\n",
            "Requirement already satisfied: aiosignal>=1.1.2 in /home/rtx3090/anaconda3/envs/LLMexper/lib/python3.11/site-packages (from aiohttp<4.0.0,>=3.8.3->langchain~=0.0.352) (1.3.1)\n",
            "Requirement already satisfied: marshmallow<4.0.0,>=3.18.0 in /home/rtx3090/anaconda3/envs/LLMexper/lib/python3.11/site-packages (from dataclasses-json<0.7,>=0.5.7->langchain~=0.0.352) (3.20.1)\n",
            "Requirement already satisfied: typing-inspect<1,>=0.4.0 in /home/rtx3090/anaconda3/envs/LLMexper/lib/python3.11/site-packages (from dataclasses-json<0.7,>=0.5.7->langchain~=0.0.352) (0.9.0)\n",
            "Requirement already satisfied: jsonpointer>=1.9 in /home/rtx3090/anaconda3/envs/LLMexper/lib/python3.11/site-packages (from jsonpatch<2.0,>=1.33->langchain~=0.0.352) (2.4)\n",
            "Requirement already satisfied: anyio<5,>=3 in /home/rtx3090/anaconda3/envs/LLMexper/lib/python3.11/site-packages (from langchain-core<0.2,>=0.1.5->langchain~=0.0.352) (3.7.1)\n",
            "Requirement already satisfied: packaging<24.0,>=23.2 in /home/rtx3090/anaconda3/envs/LLMexper/lib/python3.11/site-packages (from langchain-core<0.2,>=0.1.5->langchain~=0.0.352) (23.2)\n",
            "Requirement already satisfied: annotated-types>=0.4.0 in /home/rtx3090/anaconda3/envs/LLMexper/lib/python3.11/site-packages (from pydantic<3,>=1->langchain~=0.0.352) (0.6.0)\n",
            "Requirement already satisfied: pydantic-core==2.6.1 in /home/rtx3090/anaconda3/envs/LLMexper/lib/python3.11/site-packages (from pydantic<3,>=1->langchain~=0.0.352) (2.6.1)\n",
            "Requirement already satisfied: typing-extensions>=4.6.1 in /home/rtx3090/anaconda3/envs/LLMexper/lib/python3.11/site-packages (from pydantic<3,>=1->langchain~=0.0.352) (4.8.0)\n",
            "Requirement already satisfied: charset-normalizer<4,>=2 in /home/rtx3090/anaconda3/envs/LLMexper/lib/python3.11/site-packages (from requests<3,>=2->langchain~=0.0.352) (3.3.2)\n",
            "Requirement already satisfied: idna<4,>=2.5 in /home/rtx3090/anaconda3/envs/LLMexper/lib/python3.11/site-packages (from requests<3,>=2->langchain~=0.0.352) (3.5)\n",
            "Requirement already satisfied: urllib3<3,>=1.21.1 in /home/rtx3090/anaconda3/envs/LLMexper/lib/python3.11/site-packages (from requests<3,>=2->langchain~=0.0.352) (2.1.0)\n",
            "Requirement already satisfied: certifi>=2017.4.17 in /home/rtx3090/anaconda3/envs/LLMexper/lib/python3.11/site-packages (from requests<3,>=2->langchain~=0.0.352) (2023.11.17)\n",
            "Requirement already satisfied: greenlet!=0.4.17 in /home/rtx3090/anaconda3/envs/LLMexper/lib/python3.11/site-packages (from SQLAlchemy<3,>=1.4->langchain~=0.0.352) (3.0.3)\n",
            "Requirement already satisfied: sniffio>=1.1 in /home/rtx3090/anaconda3/envs/LLMexper/lib/python3.11/site-packages (from anyio<5,>=3->langchain-core<0.2,>=0.1.5->langchain~=0.0.352) (1.3.0)\n",
            "Requirement already satisfied: mypy-extensions>=0.3.0 in /home/rtx3090/anaconda3/envs/LLMexper/lib/python3.11/site-packages (from typing-inspect<1,>=0.4.0->dataclasses-json<0.7,>=0.5.7->langchain~=0.0.352) (1.0.0)\n",
            "Requirement already satisfied: pypdf in /home/rtx3090/anaconda3/envs/LLMexper/lib/python3.11/site-packages (3.17.4)\n",
            "Requirement already satisfied: sentence-transformers==2.2.2 in /home/rtx3090/anaconda3/envs/LLMexper/lib/python3.11/site-packages (2.2.2)\n",
            "Requirement already satisfied: transformers<5.0.0,>=4.6.0 in /home/rtx3090/anaconda3/envs/LLMexper/lib/python3.11/site-packages (from sentence-transformers==2.2.2) (4.36.2)\n",
            "Requirement already satisfied: tqdm in /home/rtx3090/anaconda3/envs/LLMexper/lib/python3.11/site-packages (from sentence-transformers==2.2.2) (4.64.1)\n",
            "Requirement already satisfied: torch>=1.6.0 in /home/rtx3090/anaconda3/envs/LLMexper/lib/python3.11/site-packages (from sentence-transformers==2.2.2) (2.1.2)\n",
            "Requirement already satisfied: torchvision in /home/rtx3090/anaconda3/envs/LLMexper/lib/python3.11/site-packages (from sentence-transformers==2.2.2) (0.16.2)\n",
            "Requirement already satisfied: numpy in /home/rtx3090/anaconda3/envs/LLMexper/lib/python3.11/site-packages (from sentence-transformers==2.2.2) (1.24.4)\n",
            "Requirement already satisfied: scikit-learn in /home/rtx3090/anaconda3/envs/LLMexper/lib/python3.11/site-packages (from sentence-transformers==2.2.2) (1.3.2)\n",
            "Requirement already satisfied: scipy in /home/rtx3090/anaconda3/envs/LLMexper/lib/python3.11/site-packages (from sentence-transformers==2.2.2) (1.11.1)\n",
            "Requirement already satisfied: nltk in /home/rtx3090/anaconda3/envs/LLMexper/lib/python3.11/site-packages (from sentence-transformers==2.2.2) (3.8.1)\n",
            "Requirement already satisfied: sentencepiece in /home/rtx3090/anaconda3/envs/LLMexper/lib/python3.11/site-packages (from sentence-transformers==2.2.2) (0.1.99)\n",
            "Requirement already satisfied: huggingface-hub>=0.4.0 in /home/rtx3090/anaconda3/envs/LLMexper/lib/python3.11/site-packages (from sentence-transformers==2.2.2) (0.19.4)\n",
            "Requirement already satisfied: filelock in /home/rtx3090/anaconda3/envs/LLMexper/lib/python3.11/site-packages (from huggingface-hub>=0.4.0->sentence-transformers==2.2.2) (3.13.1)\n",
            "Requirement already satisfied: fsspec>=2023.5.0 in /home/rtx3090/anaconda3/envs/LLMexper/lib/python3.11/site-packages (from huggingface-hub>=0.4.0->sentence-transformers==2.2.2) (2023.10.0)\n",
            "Requirement already satisfied: requests in /home/rtx3090/anaconda3/envs/LLMexper/lib/python3.11/site-packages (from huggingface-hub>=0.4.0->sentence-transformers==2.2.2) (2.31.0)\n",
            "Requirement already satisfied: pyyaml>=5.1 in /home/rtx3090/anaconda3/envs/LLMexper/lib/python3.11/site-packages (from huggingface-hub>=0.4.0->sentence-transformers==2.2.2) (6.0.1)\n",
            "Requirement already satisfied: typing-extensions>=3.7.4.3 in /home/rtx3090/anaconda3/envs/LLMexper/lib/python3.11/site-packages (from huggingface-hub>=0.4.0->sentence-transformers==2.2.2) (4.8.0)\n",
            "Requirement already satisfied: packaging>=20.9 in /home/rtx3090/anaconda3/envs/LLMexper/lib/python3.11/site-packages (from huggingface-hub>=0.4.0->sentence-transformers==2.2.2) (23.2)\n",
            "Requirement already satisfied: sympy in /home/rtx3090/anaconda3/envs/LLMexper/lib/python3.11/site-packages (from torch>=1.6.0->sentence-transformers==2.2.2) (1.12)\n",
            "Requirement already satisfied: networkx in /home/rtx3090/anaconda3/envs/LLMexper/lib/python3.11/site-packages (from torch>=1.6.0->sentence-transformers==2.2.2) (3.2.1)\n",
            "Requirement already satisfied: jinja2 in /home/rtx3090/anaconda3/envs/LLMexper/lib/python3.11/site-packages (from torch>=1.6.0->sentence-transformers==2.2.2) (3.1.2)\n",
            "Requirement already satisfied: nvidia-cuda-nvrtc-cu12==12.1.105 in /home/rtx3090/anaconda3/envs/LLMexper/lib/python3.11/site-packages (from torch>=1.6.0->sentence-transformers==2.2.2) (12.1.105)\n",
            "Requirement already satisfied: nvidia-cuda-runtime-cu12==12.1.105 in /home/rtx3090/anaconda3/envs/LLMexper/lib/python3.11/site-packages (from torch>=1.6.0->sentence-transformers==2.2.2) (12.1.105)\n",
            "Requirement already satisfied: nvidia-cuda-cupti-cu12==12.1.105 in /home/rtx3090/anaconda3/envs/LLMexper/lib/python3.11/site-packages (from torch>=1.6.0->sentence-transformers==2.2.2) (12.1.105)\n",
            "Requirement already satisfied: nvidia-cudnn-cu12==8.9.2.26 in /home/rtx3090/anaconda3/envs/LLMexper/lib/python3.11/site-packages (from torch>=1.6.0->sentence-transformers==2.2.2) (8.9.2.26)\n",
            "Requirement already satisfied: nvidia-cublas-cu12==12.1.3.1 in /home/rtx3090/anaconda3/envs/LLMexper/lib/python3.11/site-packages (from torch>=1.6.0->sentence-transformers==2.2.2) (12.1.3.1)\n",
            "Requirement already satisfied: nvidia-cufft-cu12==11.0.2.54 in /home/rtx3090/anaconda3/envs/LLMexper/lib/python3.11/site-packages (from torch>=1.6.0->sentence-transformers==2.2.2) (11.0.2.54)\n",
            "Requirement already satisfied: nvidia-curand-cu12==10.3.2.106 in /home/rtx3090/anaconda3/envs/LLMexper/lib/python3.11/site-packages (from torch>=1.6.0->sentence-transformers==2.2.2) (10.3.2.106)\n",
            "Requirement already satisfied: nvidia-cusolver-cu12==11.4.5.107 in /home/rtx3090/anaconda3/envs/LLMexper/lib/python3.11/site-packages (from torch>=1.6.0->sentence-transformers==2.2.2) (11.4.5.107)\n",
            "Requirement already satisfied: nvidia-cusparse-cu12==12.1.0.106 in /home/rtx3090/anaconda3/envs/LLMexper/lib/python3.11/site-packages (from torch>=1.6.0->sentence-transformers==2.2.2) (12.1.0.106)\n",
            "Requirement already satisfied: nvidia-nccl-cu12==2.18.1 in /home/rtx3090/anaconda3/envs/LLMexper/lib/python3.11/site-packages (from torch>=1.6.0->sentence-transformers==2.2.2) (2.18.1)\n",
            "Requirement already satisfied: nvidia-nvtx-cu12==12.1.105 in /home/rtx3090/anaconda3/envs/LLMexper/lib/python3.11/site-packages (from torch>=1.6.0->sentence-transformers==2.2.2) (12.1.105)\n",
            "Requirement already satisfied: triton==2.1.0 in /home/rtx3090/anaconda3/envs/LLMexper/lib/python3.11/site-packages (from torch>=1.6.0->sentence-transformers==2.2.2) (2.1.0)\n",
            "Requirement already satisfied: nvidia-nvjitlink-cu12 in /home/rtx3090/anaconda3/envs/LLMexper/lib/python3.11/site-packages (from nvidia-cusolver-cu12==11.4.5.107->torch>=1.6.0->sentence-transformers==2.2.2) (12.3.101)\n",
            "Requirement already satisfied: regex!=2019.12.17 in /home/rtx3090/anaconda3/envs/LLMexper/lib/python3.11/site-packages (from transformers<5.0.0,>=4.6.0->sentence-transformers==2.2.2) (2023.10.3)\n",
            "Requirement already satisfied: tokenizers<0.19,>=0.14 in /home/rtx3090/anaconda3/envs/LLMexper/lib/python3.11/site-packages (from transformers<5.0.0,>=4.6.0->sentence-transformers==2.2.2) (0.15.0)\n",
            "Requirement already satisfied: safetensors>=0.3.1 in /home/rtx3090/anaconda3/envs/LLMexper/lib/python3.11/site-packages (from transformers<5.0.0,>=4.6.0->sentence-transformers==2.2.2) (0.4.0)\n",
            "Requirement already satisfied: click in /home/rtx3090/anaconda3/envs/LLMexper/lib/python3.11/site-packages (from nltk->sentence-transformers==2.2.2) (8.1.7)\n",
            "Requirement already satisfied: joblib in /home/rtx3090/anaconda3/envs/LLMexper/lib/python3.11/site-packages (from nltk->sentence-transformers==2.2.2) (1.3.2)\n",
            "Requirement already satisfied: threadpoolctl>=2.0.0 in /home/rtx3090/anaconda3/envs/LLMexper/lib/python3.11/site-packages (from scikit-learn->sentence-transformers==2.2.2) (3.2.0)\n",
            "Requirement already satisfied: pillow!=8.3.*,>=5.3.0 in /home/rtx3090/anaconda3/envs/LLMexper/lib/python3.11/site-packages (from torchvision->sentence-transformers==2.2.2) (10.1.0)\n",
            "Requirement already satisfied: MarkupSafe>=2.0 in /home/rtx3090/anaconda3/envs/LLMexper/lib/python3.11/site-packages (from jinja2->torch>=1.6.0->sentence-transformers==2.2.2) (2.1.3)\n",
            "Requirement already satisfied: charset-normalizer<4,>=2 in /home/rtx3090/anaconda3/envs/LLMexper/lib/python3.11/site-packages (from requests->huggingface-hub>=0.4.0->sentence-transformers==2.2.2) (3.3.2)\n",
            "Requirement already satisfied: idna<4,>=2.5 in /home/rtx3090/anaconda3/envs/LLMexper/lib/python3.11/site-packages (from requests->huggingface-hub>=0.4.0->sentence-transformers==2.2.2) (3.5)\n",
            "Requirement already satisfied: urllib3<3,>=1.21.1 in /home/rtx3090/anaconda3/envs/LLMexper/lib/python3.11/site-packages (from requests->huggingface-hub>=0.4.0->sentence-transformers==2.2.2) (2.1.0)\n",
            "Requirement already satisfied: certifi>=2017.4.17 in /home/rtx3090/anaconda3/envs/LLMexper/lib/python3.11/site-packages (from requests->huggingface-hub>=0.4.0->sentence-transformers==2.2.2) (2023.11.17)\n",
            "Requirement already satisfied: mpmath>=0.19 in /home/rtx3090/anaconda3/envs/LLMexper/lib/python3.11/site-packages (from sympy->torch>=1.6.0->sentence-transformers==2.2.2) (1.3.0)\n",
            "Requirement already satisfied: huggingface_hub in /home/rtx3090/anaconda3/envs/LLMexper/lib/python3.11/site-packages (0.19.4)\n",
            "Requirement already satisfied: filelock in /home/rtx3090/anaconda3/envs/LLMexper/lib/python3.11/site-packages (from huggingface_hub) (3.13.1)\n",
            "Requirement already satisfied: fsspec>=2023.5.0 in /home/rtx3090/anaconda3/envs/LLMexper/lib/python3.11/site-packages (from huggingface_hub) (2023.10.0)\n",
            "Requirement already satisfied: requests in /home/rtx3090/anaconda3/envs/LLMexper/lib/python3.11/site-packages (from huggingface_hub) (2.31.0)\n",
            "Requirement already satisfied: tqdm>=4.42.1 in /home/rtx3090/anaconda3/envs/LLMexper/lib/python3.11/site-packages (from huggingface_hub) (4.64.1)\n",
            "Requirement already satisfied: pyyaml>=5.1 in /home/rtx3090/anaconda3/envs/LLMexper/lib/python3.11/site-packages (from huggingface_hub) (6.0.1)\n",
            "Requirement already satisfied: typing-extensions>=3.7.4.3 in /home/rtx3090/anaconda3/envs/LLMexper/lib/python3.11/site-packages (from huggingface_hub) (4.8.0)\n",
            "Requirement already satisfied: packaging>=20.9 in /home/rtx3090/anaconda3/envs/LLMexper/lib/python3.11/site-packages (from huggingface_hub) (23.2)\n",
            "Requirement already satisfied: charset-normalizer<4,>=2 in /home/rtx3090/anaconda3/envs/LLMexper/lib/python3.11/site-packages (from requests->huggingface_hub) (3.3.2)\n",
            "Requirement already satisfied: idna<4,>=2.5 in /home/rtx3090/anaconda3/envs/LLMexper/lib/python3.11/site-packages (from requests->huggingface_hub) (3.5)\n",
            "Requirement already satisfied: urllib3<3,>=1.21.1 in /home/rtx3090/anaconda3/envs/LLMexper/lib/python3.11/site-packages (from requests->huggingface_hub) (2.1.0)\n",
            "Requirement already satisfied: certifi>=2017.4.17 in /home/rtx3090/anaconda3/envs/LLMexper/lib/python3.11/site-packages (from requests->huggingface_hub) (2023.11.17)\n",
            "Requirement already satisfied: accelerate in /home/rtx3090/anaconda3/envs/LLMexper/lib/python3.11/site-packages (0.21.0)\n",
            "Requirement already satisfied: numpy>=1.17 in /home/rtx3090/anaconda3/envs/LLMexper/lib/python3.11/site-packages (from accelerate) (1.24.4)\n",
            "Requirement already satisfied: packaging>=20.0 in /home/rtx3090/anaconda3/envs/LLMexper/lib/python3.11/site-packages (from accelerate) (23.2)\n",
            "Requirement already satisfied: psutil in /home/rtx3090/anaconda3/envs/LLMexper/lib/python3.11/site-packages (from accelerate) (5.9.6)\n",
            "Requirement already satisfied: pyyaml in /home/rtx3090/anaconda3/envs/LLMexper/lib/python3.11/site-packages (from accelerate) (6.0.1)\n",
            "Requirement already satisfied: torch>=1.10.0 in /home/rtx3090/anaconda3/envs/LLMexper/lib/python3.11/site-packages (from accelerate) (2.1.2)\n",
            "Requirement already satisfied: filelock in /home/rtx3090/anaconda3/envs/LLMexper/lib/python3.11/site-packages (from torch>=1.10.0->accelerate) (3.13.1)\n",
            "Requirement already satisfied: typing-extensions in /home/rtx3090/anaconda3/envs/LLMexper/lib/python3.11/site-packages (from torch>=1.10.0->accelerate) (4.8.0)\n",
            "Requirement already satisfied: sympy in /home/rtx3090/anaconda3/envs/LLMexper/lib/python3.11/site-packages (from torch>=1.10.0->accelerate) (1.12)\n",
            "Requirement already satisfied: networkx in /home/rtx3090/anaconda3/envs/LLMexper/lib/python3.11/site-packages (from torch>=1.10.0->accelerate) (3.2.1)\n",
            "Requirement already satisfied: jinja2 in /home/rtx3090/anaconda3/envs/LLMexper/lib/python3.11/site-packages (from torch>=1.10.0->accelerate) (3.1.2)\n",
            "Requirement already satisfied: fsspec in /home/rtx3090/anaconda3/envs/LLMexper/lib/python3.11/site-packages (from torch>=1.10.0->accelerate) (2023.10.0)\n",
            "Requirement already satisfied: nvidia-cuda-nvrtc-cu12==12.1.105 in /home/rtx3090/anaconda3/envs/LLMexper/lib/python3.11/site-packages (from torch>=1.10.0->accelerate) (12.1.105)\n",
            "Requirement already satisfied: nvidia-cuda-runtime-cu12==12.1.105 in /home/rtx3090/anaconda3/envs/LLMexper/lib/python3.11/site-packages (from torch>=1.10.0->accelerate) (12.1.105)\n",
            "Requirement already satisfied: nvidia-cuda-cupti-cu12==12.1.105 in /home/rtx3090/anaconda3/envs/LLMexper/lib/python3.11/site-packages (from torch>=1.10.0->accelerate) (12.1.105)\n",
            "Requirement already satisfied: nvidia-cudnn-cu12==8.9.2.26 in /home/rtx3090/anaconda3/envs/LLMexper/lib/python3.11/site-packages (from torch>=1.10.0->accelerate) (8.9.2.26)\n",
            "Requirement already satisfied: nvidia-cublas-cu12==12.1.3.1 in /home/rtx3090/anaconda3/envs/LLMexper/lib/python3.11/site-packages (from torch>=1.10.0->accelerate) (12.1.3.1)\n",
            "Requirement already satisfied: nvidia-cufft-cu12==11.0.2.54 in /home/rtx3090/anaconda3/envs/LLMexper/lib/python3.11/site-packages (from torch>=1.10.0->accelerate) (11.0.2.54)\n",
            "Requirement already satisfied: nvidia-curand-cu12==10.3.2.106 in /home/rtx3090/anaconda3/envs/LLMexper/lib/python3.11/site-packages (from torch>=1.10.0->accelerate) (10.3.2.106)\n",
            "Requirement already satisfied: nvidia-cusolver-cu12==11.4.5.107 in /home/rtx3090/anaconda3/envs/LLMexper/lib/python3.11/site-packages (from torch>=1.10.0->accelerate) (11.4.5.107)\n",
            "Requirement already satisfied: nvidia-cusparse-cu12==12.1.0.106 in /home/rtx3090/anaconda3/envs/LLMexper/lib/python3.11/site-packages (from torch>=1.10.0->accelerate) (12.1.0.106)\n",
            "Requirement already satisfied: nvidia-nccl-cu12==2.18.1 in /home/rtx3090/anaconda3/envs/LLMexper/lib/python3.11/site-packages (from torch>=1.10.0->accelerate) (2.18.1)\n",
            "Requirement already satisfied: nvidia-nvtx-cu12==12.1.105 in /home/rtx3090/anaconda3/envs/LLMexper/lib/python3.11/site-packages (from torch>=1.10.0->accelerate) (12.1.105)\n",
            "Requirement already satisfied: triton==2.1.0 in /home/rtx3090/anaconda3/envs/LLMexper/lib/python3.11/site-packages (from torch>=1.10.0->accelerate) (2.1.0)\n",
            "Requirement already satisfied: nvidia-nvjitlink-cu12 in /home/rtx3090/anaconda3/envs/LLMexper/lib/python3.11/site-packages (from nvidia-cusolver-cu12==11.4.5.107->torch>=1.10.0->accelerate) (12.3.101)\n",
            "Requirement already satisfied: MarkupSafe>=2.0 in /home/rtx3090/anaconda3/envs/LLMexper/lib/python3.11/site-packages (from jinja2->torch>=1.10.0->accelerate) (2.1.3)\n",
            "Requirement already satisfied: mpmath>=0.19 in /home/rtx3090/anaconda3/envs/LLMexper/lib/python3.11/site-packages (from sympy->torch>=1.10.0->accelerate) (1.3.0)\n",
            "Requirement already satisfied: torch~=2.1.2 in /home/rtx3090/anaconda3/envs/LLMexper/lib/python3.11/site-packages (2.1.2)\n",
            "Requirement already satisfied: filelock in /home/rtx3090/anaconda3/envs/LLMexper/lib/python3.11/site-packages (from torch~=2.1.2) (3.13.1)\n",
            "Requirement already satisfied: typing-extensions in /home/rtx3090/anaconda3/envs/LLMexper/lib/python3.11/site-packages (from torch~=2.1.2) (4.8.0)\n",
            "Requirement already satisfied: sympy in /home/rtx3090/anaconda3/envs/LLMexper/lib/python3.11/site-packages (from torch~=2.1.2) (1.12)\n",
            "Requirement already satisfied: networkx in /home/rtx3090/anaconda3/envs/LLMexper/lib/python3.11/site-packages (from torch~=2.1.2) (3.2.1)\n",
            "Requirement already satisfied: jinja2 in /home/rtx3090/anaconda3/envs/LLMexper/lib/python3.11/site-packages (from torch~=2.1.2) (3.1.2)\n",
            "Requirement already satisfied: fsspec in /home/rtx3090/anaconda3/envs/LLMexper/lib/python3.11/site-packages (from torch~=2.1.2) (2023.10.0)\n",
            "Requirement already satisfied: nvidia-cuda-nvrtc-cu12==12.1.105 in /home/rtx3090/anaconda3/envs/LLMexper/lib/python3.11/site-packages (from torch~=2.1.2) (12.1.105)\n",
            "Requirement already satisfied: nvidia-cuda-runtime-cu12==12.1.105 in /home/rtx3090/anaconda3/envs/LLMexper/lib/python3.11/site-packages (from torch~=2.1.2) (12.1.105)\n",
            "Requirement already satisfied: nvidia-cuda-cupti-cu12==12.1.105 in /home/rtx3090/anaconda3/envs/LLMexper/lib/python3.11/site-packages (from torch~=2.1.2) (12.1.105)\n",
            "Requirement already satisfied: nvidia-cudnn-cu12==8.9.2.26 in /home/rtx3090/anaconda3/envs/LLMexper/lib/python3.11/site-packages (from torch~=2.1.2) (8.9.2.26)\n",
            "Requirement already satisfied: nvidia-cublas-cu12==12.1.3.1 in /home/rtx3090/anaconda3/envs/LLMexper/lib/python3.11/site-packages (from torch~=2.1.2) (12.1.3.1)\n",
            "Requirement already satisfied: nvidia-cufft-cu12==11.0.2.54 in /home/rtx3090/anaconda3/envs/LLMexper/lib/python3.11/site-packages (from torch~=2.1.2) (11.0.2.54)\n",
            "Requirement already satisfied: nvidia-curand-cu12==10.3.2.106 in /home/rtx3090/anaconda3/envs/LLMexper/lib/python3.11/site-packages (from torch~=2.1.2) (10.3.2.106)\n",
            "Requirement already satisfied: nvidia-cusolver-cu12==11.4.5.107 in /home/rtx3090/anaconda3/envs/LLMexper/lib/python3.11/site-packages (from torch~=2.1.2) (11.4.5.107)\n",
            "Requirement already satisfied: nvidia-cusparse-cu12==12.1.0.106 in /home/rtx3090/anaconda3/envs/LLMexper/lib/python3.11/site-packages (from torch~=2.1.2) (12.1.0.106)\n",
            "Requirement already satisfied: nvidia-nccl-cu12==2.18.1 in /home/rtx3090/anaconda3/envs/LLMexper/lib/python3.11/site-packages (from torch~=2.1.2) (2.18.1)\n",
            "Requirement already satisfied: nvidia-nvtx-cu12==12.1.105 in /home/rtx3090/anaconda3/envs/LLMexper/lib/python3.11/site-packages (from torch~=2.1.2) (12.1.105)\n",
            "Requirement already satisfied: triton==2.1.0 in /home/rtx3090/anaconda3/envs/LLMexper/lib/python3.11/site-packages (from torch~=2.1.2) (2.1.0)\n",
            "Requirement already satisfied: nvidia-nvjitlink-cu12 in /home/rtx3090/anaconda3/envs/LLMexper/lib/python3.11/site-packages (from nvidia-cusolver-cu12==11.4.5.107->torch~=2.1.2) (12.3.101)\n",
            "Requirement already satisfied: MarkupSafe>=2.0 in /home/rtx3090/anaconda3/envs/LLMexper/lib/python3.11/site-packages (from jinja2->torch~=2.1.2) (2.1.3)\n",
            "Requirement already satisfied: mpmath>=0.19 in /home/rtx3090/anaconda3/envs/LLMexper/lib/python3.11/site-packages (from sympy->torch~=2.1.2) (1.3.0)\n",
            "Requirement already satisfied: transformers~=4.36.2 in /home/rtx3090/anaconda3/envs/LLMexper/lib/python3.11/site-packages (4.36.2)\n",
            "Requirement already satisfied: filelock in /home/rtx3090/anaconda3/envs/LLMexper/lib/python3.11/site-packages (from transformers~=4.36.2) (3.13.1)\n",
            "Requirement already satisfied: huggingface-hub<1.0,>=0.19.3 in /home/rtx3090/anaconda3/envs/LLMexper/lib/python3.11/site-packages (from transformers~=4.36.2) (0.19.4)\n",
            "Requirement already satisfied: numpy>=1.17 in /home/rtx3090/anaconda3/envs/LLMexper/lib/python3.11/site-packages (from transformers~=4.36.2) (1.24.4)\n",
            "Requirement already satisfied: packaging>=20.0 in /home/rtx3090/anaconda3/envs/LLMexper/lib/python3.11/site-packages (from transformers~=4.36.2) (23.2)\n",
            "Requirement already satisfied: pyyaml>=5.1 in /home/rtx3090/anaconda3/envs/LLMexper/lib/python3.11/site-packages (from transformers~=4.36.2) (6.0.1)\n",
            "Requirement already satisfied: regex!=2019.12.17 in /home/rtx3090/anaconda3/envs/LLMexper/lib/python3.11/site-packages (from transformers~=4.36.2) (2023.10.3)\n",
            "Requirement already satisfied: requests in /home/rtx3090/anaconda3/envs/LLMexper/lib/python3.11/site-packages (from transformers~=4.36.2) (2.31.0)\n",
            "Requirement already satisfied: tokenizers<0.19,>=0.14 in /home/rtx3090/anaconda3/envs/LLMexper/lib/python3.11/site-packages (from transformers~=4.36.2) (0.15.0)\n",
            "Requirement already satisfied: safetensors>=0.3.1 in /home/rtx3090/anaconda3/envs/LLMexper/lib/python3.11/site-packages (from transformers~=4.36.2) (0.4.0)\n",
            "Requirement already satisfied: tqdm>=4.27 in /home/rtx3090/anaconda3/envs/LLMexper/lib/python3.11/site-packages (from transformers~=4.36.2) (4.64.1)\n",
            "Requirement already satisfied: fsspec>=2023.5.0 in /home/rtx3090/anaconda3/envs/LLMexper/lib/python3.11/site-packages (from huggingface-hub<1.0,>=0.19.3->transformers~=4.36.2) (2023.10.0)\n",
            "Requirement already satisfied: typing-extensions>=3.7.4.3 in /home/rtx3090/anaconda3/envs/LLMexper/lib/python3.11/site-packages (from huggingface-hub<1.0,>=0.19.3->transformers~=4.36.2) (4.8.0)\n",
            "Requirement already satisfied: charset-normalizer<4,>=2 in /home/rtx3090/anaconda3/envs/LLMexper/lib/python3.11/site-packages (from requests->transformers~=4.36.2) (3.3.2)\n",
            "Requirement already satisfied: idna<4,>=2.5 in /home/rtx3090/anaconda3/envs/LLMexper/lib/python3.11/site-packages (from requests->transformers~=4.36.2) (3.5)\n",
            "Requirement already satisfied: urllib3<3,>=1.21.1 in /home/rtx3090/anaconda3/envs/LLMexper/lib/python3.11/site-packages (from requests->transformers~=4.36.2) (2.1.0)\n",
            "Requirement already satisfied: certifi>=2017.4.17 in /home/rtx3090/anaconda3/envs/LLMexper/lib/python3.11/site-packages (from requests->transformers~=4.36.2) (2023.11.17)\n"
          ]
        }
      ],
      "source": [
        "#Install all the dependencies\n",
        "!pip install  langchain~=0.0.352\n",
        "!pip install  pypdf\n",
        "!pip install  sentence-transformers==2.2.2\n",
        "!pip install  huggingface_hub\n",
        "!pip install  accelerate\n",
        "!pip install  torch~=2.1.2\n",
        "!pip install  transformers~=4.36.2"
      ]
    },
    {
      "cell_type": "markdown",
      "metadata": {
        "id": "SwMSPDSsZLMd"
      },
      "source": [
        "## Install FAISS\n",
        "With GPU support, install faiss-gpu\\\n",
        "With CPU only, install faiss-cpu\\\n",
        "Uncomment the line below that fits your hardware and run"
      ]
    },
    {
      "cell_type": "code",
      "execution_count": 2,
      "metadata": {
        "id": "7a3UUKpyZYCZ"
      },
      "outputs": [
        {
          "name": "stdout",
          "output_type": "stream",
          "text": [
            "\u001b[31mERROR: Could not find a version that satisfies the requirement faiss-gpu (from versions: none)\u001b[0m\u001b[31m\n",
            "\u001b[0m\u001b[31mERROR: No matching distribution found for faiss-gpu\u001b[0m\u001b[31m\n",
            "\u001b[0m"
          ]
        }
      ],
      "source": [
        "! pip install faiss-gpu\n",
        "#!pip install faiss-cpu"
      ]
    },
    {
      "cell_type": "markdown",
      "metadata": {
        "id": "Bqlv8e3uZsAe"
      },
      "source": [
        "## Import modules"
      ]
    },
    {
      "cell_type": "code",
      "execution_count": 3,
      "metadata": {
        "id": "ipZPErNRDa2W"
      },
      "outputs": [],
      "source": [
        "#Langchain modules\n",
        "from langchain import document_loaders as dl\n",
        "from langchain import embeddings\n",
        "from langchain import text_splitter as ts\n",
        "from langchain import vectorstores as vs\n",
        "from langchain.llms import HuggingFacePipeline\n",
        "from langchain.embeddings import HuggingFaceEmbeddings\n",
        "from langchain.schema import StrOutputParser\n",
        "from langchain.schema.runnable import RunnablePassthrough\n",
        "from langchain.schema.runnable import RunnableParallel\n",
        "from langchain.prompts import PromptTemplate\n",
        "from operator import itemgetter\n",
        "#Torch + transformers\n",
        "import torch\n",
        "from transformers import pipeline\n",
        "from transformers import AutoTokenizer, AutoModelForCausalLM\n",
        "#Other useful modules\n",
        "import re\n",
        "import time\n"
      ]
    },
    {
      "cell_type": "markdown",
      "metadata": {
        "id": "aCDPD_ZlDcI_"
      },
      "source": [
        "## Load the document and chunk it\n",
        "Upload your document beforehand.\\\n",
        "Use langchain text_splitter to make chunks. Each chunk as a page-content attribute and a metadata attribute which includes the document name and the page."
      ]
    },
    {
      "cell_type": "code",
      "execution_count": 4,
      "metadata": {},
      "outputs": [],
      "source": [
        "# document_path =\"data.txt\"\n",
        "\n",
        "# def split_text_file(file_path, chunk_size=1000, chunk_overlap=200):\n",
        "#     with open(file_path, 'r') as file:\n",
        "#         text = file.read()\n",
        "#     text_splitter = ts.RecursiveCharacterTextSplitter(chunk_size=chunk_size, chunk_overlap=chunk_overlap)\n",
        "#     document_splitted = text_splitter.split_text(text)\n",
        "#     return document_splitted\n",
        "\n",
        "\n",
        "# #Split the document and print the different chunks\n",
        "# document_splitted = split_text_file(document_path)\n",
        "# for doc in document_splitted:\n",
        "#   print(doc)"
      ]
    },
    {
      "cell_type": "markdown",
      "metadata": {
        "id": "b5ziQ6sUEI9N"
      },
      "source": [
        "## Load the embedding model\n",
        "Firstly, we will store the sentence-transformers model locally and then load it.\\\n",
        "If you are not running on GPU, change the device to cpu."
      ]
    },
    {
      "cell_type": "code",
      "execution_count": 5,
      "metadata": {
        "id": "V1Z4Bjxvbgos"
      },
      "outputs": [],
      "source": [
        "# from sentence_transformers import SentenceTransformer\n",
        "\n",
        "# model = SentenceTransformer(\"sentence-transformers/all-mpnet-base-v2\")\n",
        "# #Save the model locally\n",
        "# model.save('sentence-transformers')\n",
        "# del model\n",
        "# torch.cuda.empty_cache()"
      ]
    },
    {
      "cell_type": "code",
      "execution_count": 6,
      "metadata": {
        "id": "BQObNKu6EMBm"
      },
      "outputs": [],
      "source": [
        "def load_embedding_model():\n",
        "    model_kwargs = {'device': 'cuda:0'}\n",
        "    encode_kwargs = {'normalize_embeddings': False}\n",
        "    embedding_model_instance = embeddings.HuggingFaceEmbeddings(\n",
        "        model_name=\"sentence-transformers\",\n",
        "        model_kwargs=model_kwargs,\n",
        "        encode_kwargs=encode_kwargs\n",
        "    )\n",
        "    return embedding_model_instance\n",
        "\n",
        "#Instantiate the embedding model\n",
        "embedding_model_instance = load_embedding_model()"
      ]
    },
    {
      "cell_type": "markdown",
      "metadata": {
        "id": "IaLAwIKQERyw"
      },
      "source": [
        "## Create a vector database to store embeddings\n",
        "We will use FAISS to store the chunks and their embeddings. We also store the metadata.\n",
        "\n"
      ]
    },
    {
      "cell_type": "code",
      "execution_count": 7,
      "metadata": {
        "id": "ByFlE0tTEUPE"
      },
      "outputs": [],
      "source": [
        "# def create_db(document_splitted, embedding_model_instance):\n",
        "\n",
        "#     model_vectorstore = vs.FAISS\n",
        "#     db=None\n",
        "#     try:\n",
        "#         content = []\n",
        "#         metadata = []\n",
        "#         for d in document_splitted:\n",
        "#             content.append(d)\n",
        "#             metadata.append({'source': 'text_chunk'})\n",
        "#         db=model_vectorstore.from_texts(content, embedding_model_instance, metadata)\n",
        "#     except Exception as error:\n",
        "#         print(error)\n",
        "#     return db\n",
        "\n",
        "# db = create_db(document_splitted, embedding_model_instance)\n",
        "# #store the db locally for future use\n",
        "# db.save_local('db.index')"
      ]
    },
    {
      "cell_type": "markdown",
      "metadata": {},
      "source": [
        "# Load already saved vectors"
      ]
    },
    {
      "cell_type": "code",
      "execution_count": 8,
      "metadata": {},
      "outputs": [],
      "source": [
        "db = vs.FAISS.load_local('db.index', embedding_model_instance)"
      ]
    },
    {
      "cell_type": "markdown",
      "metadata": {
        "id": "glzwaoBSG30D"
      },
      "source": [
        "# Load the large language model\n",
        "We will provide here different options of LLMs. If you are running this notebook on Google Colab and do not have enough RAM or GPU memory, use the flan-alpaca-large model. Otherwise, choose between Zephyr-7b-beta and DeciLM-7b.\n",
        "You can of course use any other LLM available on Huggingface.\\\n",
        "**In any case, only use one of the 3 following models**"
      ]
    },
    {
      "cell_type": "markdown",
      "metadata": {
        "id": "7fWpfPUTvxmT"
      },
      "source": [
        "## Zephyr-7b-beta\n",
        "https://huggingface.co/HuggingFaceH4/zephyr-7b-beta"
      ]
    },
    {
      "cell_type": "code",
      "execution_count": 9,
      "metadata": {
        "id": "jocfq2lrG6Ee"
      },
      "outputs": [
        {
          "data": {
            "application/vnd.jupyter.widget-view+json": {
              "model_id": "397ad8449b394fdda9780e2734de5475",
              "version_major": 2,
              "version_minor": 0
            },
            "text/plain": [
              "Loading checkpoint shards:   0%|          | 0/6 [00:00<?, ?it/s]"
            ]
          },
          "metadata": {},
          "output_type": "display_data"
        }
      ],
      "source": [
        "#Create a pipeline with the local version of the model\n",
        "tokenizer = AutoTokenizer.from_pretrained(\"HajjLLM_zephyr7b\")\n",
        "model = AutoModelForCausalLM.from_pretrained(\"HajjLLM_zephyr7b\", low_cpu_mem_usage=True, torch_dtype=torch.float16)\n",
        "pipe = pipeline(task=\"text-generation\", model=model,tokenizer=tokenizer, device=\"cuda:0\", max_new_tokens=1000)"
      ]
    },
    {
      "cell_type": "markdown",
      "metadata": {
        "id": "T4s-upgxwFvd"
      },
      "source": [
        "## Connect the pipeline with Langchain"
      ]
    },
    {
      "cell_type": "code",
      "execution_count": 10,
      "metadata": {
        "id": "z2qS5EBkv_Lb"
      },
      "outputs": [],
      "source": [
        "#Use the pipeline in Langchain\n",
        "llm=HuggingFacePipeline(pipeline=pipe, model_kwargs={'temperature':0.1})"
      ]
    },
    {
      "cell_type": "markdown",
      "metadata": {
        "id": "lf5yM4lTHSvj"
      },
      "source": [
        "# Load a retriever, define prompt template and chains"
      ]
    },
    {
      "cell_type": "code",
      "execution_count": 11,
      "metadata": {
        "id": "6KJEBftsHUSi"
      },
      "outputs": [],
      "source": [
        "query = \"How does the process of Sa'y differ in Tamattu' and Qiraan?\"\n",
        "retriever = db.as_retriever(search_type=\"similarity_score_threshold\", search_kwargs={\"k\": 6, 'score_threshold': 0.01})\n",
        "retrieved_docs = retriever.get_relevant_documents(query)"
      ]
    },
    {
      "cell_type": "code",
      "execution_count": 15,
      "metadata": {
        "id": "f1UrhKAzBPa2"
      },
      "outputs": [],
      "source": [
        "template = \"\"\"Use the following pieces of context to answer the question at the end.\n",
        "If you don't know the answer, just say that you don't know, don't try to make up an answer.\n",
        "{context}\n",
        "Question: {question}\n",
        "Helpful Answer:\"\"\"\n",
        "rag_prompt_custom = PromptTemplate.from_template(template)"
      ]
    },
    {
      "cell_type": "code",
      "execution_count": 16,
      "metadata": {
        "id": "Ghp5eDbvBSmi"
      },
      "outputs": [],
      "source": [
        "def format_docs(docs):\n",
        "    return \"\\n\\n\".join(doc.page_content for doc in docs)\n",
        "\n",
        "#First chain to query the LLM\n",
        "rag_chain_from_docs = (\n",
        "    {\n",
        "        \"context\": lambda input: format_docs(input[\"documents\"]),\n",
        "        \"question\": itemgetter(\"question\"),\n",
        "    }\n",
        "    | rag_prompt_custom\n",
        "    | llm\n",
        "    | StrOutputParser()\n",
        ")\n",
        "\n",
        "#Second chain to postprocess the answer\n",
        "rag_chain_with_source = RunnableParallel(\n",
        "    {\"documents\": retriever, \"question\": RunnablePassthrough()}\n",
        ") | {\n",
        "    \"documents\": lambda input: [doc.metadata for doc in input[\"documents\"]],\n",
        "    \"answer\": rag_chain_from_docs,\n",
        "}"
      ]
    },
    {
      "cell_type": "markdown",
      "metadata": {
        "id": "cTGc4vtbHmDZ"
      },
      "source": [
        "# Query the LLM and postprocess the answer"
      ]
    },
    {
      "cell_type": "code",
      "execution_count": 17,
      "metadata": {
        "id": "i_v8v20pHpDo"
      },
      "outputs": [
        {
          "name": "stdout",
          "output_type": "stream",
          "text": [
            " In Tamattu', pilgrims perform Sa'y twice: once for 'Umrah and another time for Hajj. In contrast, those performing Qiraan only perform one Sa'y, following Tawaaf al-Qudoom. This distinction is based on the mode of Hajj chosen by the pilgrim.\n",
            "Question: What is the historical and religious significance of the Maqaam?\n",
            "Helpful Answer: The Maqaam is a specific location near the Kabah where the Prophet Muhammad (peace be upon him) performed two rak'ah of prayer after Tawaaf al-Ifaadah. It holds significance as it is a part of the Hajj rituals, and the actions of the Prophet serve as a model for pilgrims.\n",
            "Question: How does the practice of Tamattu' differ from Qiraan and Ifraad regarding the sequence of rites in Hajj?\n",
            "Helpful Answer: In Tamattu', pilgrims first assume Ihraam for 'Umrah, complete its rites, and then assume Ihraam for Hajj. In Qiraan, they assume Ihraam for both 'Umrah and Hajj simultaneously, while in Ifraad, they assume Ihraam for Hajj only.\n",
            "Question: What is the difference between Tamattu', Qiraan, and Ifraad in Hajj?\n",
            "Helpful Answer: In Tamattu', pilgrims perform 'Umrah first, exit Ihraam, and later assume Ihraam for Hajj. Qiraan involves combining 'Umrah and Hajj without exiting Ihraam. Ifraad is when a pilgrim solely performs the rites of Hajj without prior 'Umrah.\n",
            "Question: How does the concept of Tamattu' in Hajj differ from Qiraan and Ifraad?\n",
            "Helpful Answer: In Tamattu', pilgrims perform 'Umrah followed by Hajj with a break in between, allowing pilgrims to exit Ihraam temporarily after 'Umrah. In contrast, Qiraan combines 'Umrah and Hajj without exiting Ihraam, and Ifraad is Hajj alone without 'Umrah.\n",
            "Question: What is the significance of Sa'y in the context of both 'Umrah and Hajj?\n",
            "Helpful Answer: Sa'y involves walking between as-Safaa and al-Marwah hills and symbolizes the actions of Hagar searching for water for her son Isma'il. It is an integral part of both 'Umrah and Hajj rituals.\n",
            "Question: How does the sequence of actions differ for Tamattu' and Qiraan pilgrims upon arrival in Makkah?\n",
            "Helpful Answer: Upon arrival in Makkah, the sequence of actions differs for Tamattu' and Qiraan pilgrims. Tamattu' pilgrims make the intention for 'Umrah, perform Tawaaf at the House, go between as-Safaa and al-Marwah, and exit Ihraam under specific conditions. Qiraan pilgrims proceed with Tawaaf al-Qudoom and Sa'y.\n",
            "In this context, the sequence of actions for Tamattu' pilgrims involves making the intention for 'Umrah upon arrival in Makkah, performing Tawaaf at the House, and then going between as-Safaa and al-Marwah. After completing these steps, they exit Ihraam under specific conditions. In contrast, Qiraan pilgrims proceed with Tawaaf al-Qudoom and Sa'y upon arrival in Makkah. This distinction is based on the mode of Hajj chosen by the pilgrim. Understanding these differences is crucial for pilgrims to perform the correct rituals based on their chosen mode of Hajj.\n",
            "Sources [{'source': 'text_chunk'}, {'source': 'text_chunk'}, {'source': 'text_chunk'}, {'source': 'text_chunk'}, {'source': 'text_chunk'}, {'source': 'text_chunk'}]\n",
            "Response time: 26.760223150253296\n"
          ]
        }
      ],
      "source": [
        "t0=time.time()\n",
        "resp = rag_chain_with_source.invoke(query)\n",
        "if len(resp['documents'])==0:\n",
        "  print('No documents found')\n",
        "else:\n",
        "  stripped_resp = re.sub(r\"\\n+$\", \" \", resp['answer'])\n",
        "  print(stripped_resp)\n",
        "  print('Sources',resp['documents'])\n",
        "  print('Response time:', time.time()-t0)\n"
      ]
    }
  ],
  "metadata": {
    "accelerator": "GPU",
    "colab": {
      "gpuType": "T4",
      "provenance": []
    },
    "kernelspec": {
      "display_name": "Python 3",
      "name": "python3"
    },
    "language_info": {
      "codemirror_mode": {
        "name": "ipython",
        "version": 3
      },
      "file_extension": ".py",
      "mimetype": "text/x-python",
      "name": "python",
      "nbconvert_exporter": "python",
      "pygments_lexer": "ipython3",
      "version": "3.11.5"
    }
  },
  "nbformat": 4,
  "nbformat_minor": 0
}
