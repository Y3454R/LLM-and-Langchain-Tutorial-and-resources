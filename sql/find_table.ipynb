{
 "cells": [
  {
   "cell_type": "code",
   "execution_count": 2,
   "metadata": {},
   "outputs": [],
   "source": [
    "import psycopg2\n",
    "def connect_sql():  \n",
    "    conn = psycopg2.connect(database=\"ssbms\",\n",
    "                            host=\"localhost\",\n",
    "                            user=\"postgres\",\n",
    "                            password=\"yourDBpass\",\n",
    "                            port=\"7643\")\n",
    "    # cursor = conn.cursor()\n",
    "    return conn\n",
    "def execute_sql(sql_code,conn):\n",
    "    cursor = conn.cursor()\n",
    "    try:\n",
    "        cursor.execute(sql_code)    \n",
    "        dat=[x for x in cursor]\n",
    "        # if len(dat):\n",
    "        #     dat=\"\\n\".join(dat)\n",
    "        # else:\n",
    "        #     dat=\"No data\"\n",
    "        \n",
    "        return True,dat\n",
    "    except:\n",
    "        return False,\"\"\n",
    "\n"
   ]
  },
  {
   "cell_type": "code",
   "execution_count": 8,
   "metadata": {},
   "outputs": [],
   "source": [
    "conn=connect_sql()\n",
    "relation_list={}\n",
    "flag,data=execute_sql(\"select * from foreign_keys_view\",conn)\n",
    "relation=[]\n",
    "for x in data:\n",
    "    ss=f\"{x[0]}.{x[1]} can be joined with {x[2]}.{x[3]}\"\n",
    "    if relation_list.get(x[0])==None:\n",
    "        relation_list[x[0]]=[]\n",
    "        relation_list[x[0]].append(ss)\n",
    "    else:\n",
    "        relation_list[x[0]].append(ss)\n",
    "    if relation_list.get(x[2])==None:\n",
    "        relation_list[x[2]]=[]\n",
    "        relation_list[x[2]].append(ss)\n",
    "    else:\n",
    "        relation_list[x[2]].append(ss)\n",
    "    relation.append(ss)"
   ]
  },
  {
   "cell_type": "code",
   "execution_count": null,
   "metadata": {},
   "outputs": [],
   "source": [
    "conn=connect_sql()\n",
    "x=\"alarms\"\n",
    "q1=f'''\n",
    "        SELECT column_name, data_type\n",
    "        FROM information_schema.columns\n",
    "        WHERE table_name = '{x}' '''\n",
    "flag,data=execute_sql(q1,conn)\n",
    "data"
   ]
  },
  {
   "cell_type": "code",
   "execution_count": null,
   "metadata": {},
   "outputs": [],
   "source": [
    "conn=connect_sql()\n",
    "query='''SELECT table_name\n",
    "FROM information_schema.tables\n",
    "WHERE table_schema = 'public' AND table_type = 'BASE TABLE';\n",
    "'''\n",
    "flag,data=execute_sql(query,conn)"
   ]
  },
  {
   "cell_type": "code",
   "execution_count": null,
   "metadata": {},
   "outputs": [],
   "source": [
    "table_name=[]\n",
    "for x in data:\n",
    "    xx=x[0]\n",
    "    # print(xx)\n",
    "    table_name.append(xx)\n",
    "    # if xx[:4]==\"emer\":\n",
    "    #     print(xx)\n",
    "table_name=\"\\n\".join(table_name)\n",
    "f=open(\"data/table_name.txt\",\"w\")\n",
    "f.write(table_name)"
   ]
  },
  {
   "cell_type": "code",
   "execution_count": null,
   "metadata": {},
   "outputs": [],
   "source": [
    "cnt=0\n",
    "full_data=[]\n",
    "for x in data:\n",
    "    cnt+=1\n",
    "    xx=x[0]\n",
    "    q1=f'''SELECT column_name, data_type\n",
    "        FROM information_schema.columns\n",
    "        WHERE table_name = '{xx}' '''\n",
    "    q2=f'''select * from {xx}'''\n",
    "    _,data1=execute_sql(q1,conn)\n",
    "    st=[\"Column name, Column data type\"]\n",
    "    for x2 in data1:\n",
    "        st.append(f\"{x2[0],x2[1]}\")\n",
    "    st=\"\\n\".join(st)\n",
    "\n",
    "    _,data2=execute_sql(q2,conn)\n",
    "    if len(data2)==0:\n",
    "        data2=f\"No data for {xx} table\"\n",
    "    else:\n",
    "        st2=[]\n",
    "        for x2 in data2:\n",
    "            st2.append(str(x2))\n",
    "        data2=\"\\n\".join(st2)\n",
    "    ss=f\"Table name: {xx}\\nTable description:\\n{st}\\nTable data:\\n{data2}\"\n",
    "    # print(ss)\n",
    "  \n",
    "    full_data.append(ss)\n",
    "\n",
    "\n"
   ]
  },
  {
   "cell_type": "code",
   "execution_count": 9,
   "metadata": {},
   "outputs": [],
   "source": [
    "cnt=0\n",
    "full_data=[]\n",
    "for x in data:\n",
    "    cnt+=1\n",
    "    xx=x[0]\n",
    "    q1=f'''SELECT column_name, data_type\n",
    "        FROM information_schema.columns\n",
    "        WHERE table_name = '{xx}' '''\n",
    "    _,data1=execute_sql(q1,conn)\n",
    "    st=[]\n",
    "    for x2 in data1:\n",
    "        st.append(f\"{x2[0]}({x2[1]})\")\n",
    "\n",
    "    st=\",\".join(st)+\"\\n\"+(\"\\n\".join(relation_list[xx]))\n",
    "\n",
    "    \n",
    "    ss=f\"{xx}({st})\"\n",
    "  \n",
    "    full_data.append(ss)\n",
    "\n",
    "\n"
   ]
  },
  {
   "cell_type": "code",
   "execution_count": 14,
   "metadata": {},
   "outputs": [
    {
     "data": {
      "text/plain": [
       "'addresses(id(uuid),additional_number(integer),unit_number(integer),created_by(uuid),created_on(timestamp without time zone),building_number(integer),zip_code(integer),short_address(character varying),city_name(character varying),street_name(character varying),district_name(character varying)\\naddresses.created_by can be joined with users.id\\nfacilities.address_id can be joined with addresses.id)'"
      ]
     },
     "execution_count": 14,
     "metadata": {},
     "output_type": "execute_result"
    }
   ],
   "source": [
    "full_data[0]"
   ]
  },
  {
   "cell_type": "code",
   "execution_count": 15,
   "metadata": {},
   "outputs": [
    {
     "data": {
      "text/plain": [
       "121999"
      ]
     },
     "execution_count": 15,
     "metadata": {},
     "output_type": "execute_result"
    }
   ],
   "source": [
    "full_data2=full_data\n",
    "open(\"/home/rtx3090/Desktop/shakib/sql/sqlcoder/data/tablename_with_col_relation.txt\",\"w\").write(\"\\n\".join(full_data2))"
   ]
  },
  {
   "cell_type": "code",
   "execution_count": null,
   "metadata": {},
   "outputs": [],
   "source": [
    "# f=open(\"reduced_data.txt\",\"w\")\n",
    "# f.write(full_data)"
   ]
  },
  {
   "cell_type": "code",
   "execution_count": null,
   "metadata": {},
   "outputs": [],
   "source": [
    "f=open(\"reduced_data.txt\",\"r\").read().split(\"\\n\")\n",
    "f2=open(r\"/home/rtx3090/Desktop/shakib/sql/sqlcoder/data/ssbms.sql\",\"r\").read().split(\"\\n\")"
   ]
  }
 ],
 "metadata": {
  "kernelspec": {
   "display_name": "LLMTesting",
   "language": "python",
   "name": "python3"
  },
  "language_info": {
   "codemirror_mode": {
    "name": "ipython",
    "version": 3
   },
   "file_extension": ".py",
   "mimetype": "text/x-python",
   "name": "python",
   "nbconvert_exporter": "python",
   "pygments_lexer": "ipython3",
   "version": "3.11.5"
  }
 },
 "nbformat": 4,
 "nbformat_minor": 2
}
