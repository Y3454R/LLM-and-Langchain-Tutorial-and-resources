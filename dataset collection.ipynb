{
 "cells": [
  {
   "cell_type": "code",
   "execution_count": null,
   "metadata": {},
   "outputs": [],
   "source": [
    "from datasets import load_dataset\n",
    "\n",
    "dataset = load_dataset(\"pubmed_qa\", \"pqa_artificial\")"
   ]
  },
  {
   "cell_type": "code",
   "execution_count": null,
   "metadata": {},
   "outputs": [],
   "source": [
    "dataset"
   ]
  },
  {
   "cell_type": "code",
   "execution_count": null,
   "metadata": {},
   "outputs": [],
   "source": [
    "def generate_prompt(data_point):\n",
    "    return f\"\"\"Below is an text that describes a question, an input that provides further context and also provide two answer(long answer and final decision). Write a response that appropriately completes the request.  # noqa: E501\n",
    "### question:\n",
    "{data_point[\"question\"]}\n",
    "### Input:\n",
    "{data_point[\"context\"]}\n",
    "### Response:\n",
    "Long answer: \n",
    "{data_point[\"long_answer\"]}\n",
    "Final decision: \n",
    "{data_point[\"final_decision\"]}\n",
    "\"\"\"\n",
    "def data_gen(ex):\n",
    "    ex['text']=generate_prompt(ex)\n",
    "    return ex\n",
    "train_data = (\n",
    "    dataset[\"train\"].map(data_gen)\n",
    ")"
   ]
  },
  {
   "cell_type": "code",
   "execution_count": null,
   "metadata": {},
   "outputs": [],
   "source": [
    "train_data = train_data.remove_columns(['pubid', 'question', 'context', 'long_answer', 'final_decision'])"
   ]
  },
  {
   "cell_type": "code",
   "execution_count": null,
   "metadata": {},
   "outputs": [],
   "source": [
    "train_dat=train_data.train_test_split(test_size=0.05)"
   ]
  },
  {
   "cell_type": "code",
   "execution_count": null,
   "metadata": {},
   "outputs": [],
   "source": [
    "import pandas as pd\n",
    "df=pd.DataFrame(train_dat['train'])\n",
    "df.to_csv(\"experiment/train.csv\",index=False)\n",
    "df=pd.DataFrame(train_dat['test'])\n",
    "df.to_csv(\"experiment/test.csv\",index=False)"
   ]
  },
  {
   "cell_type": "code",
   "execution_count": 32,
   "metadata": {},
   "outputs": [
    {
     "name": "stdout",
     "output_type": "stream",
     "text": [
      "bin /home/drmohammad/anaconda3/envs/hugging1/lib/python3.9/site-packages/bitsandbytes/libbitsandbytes_cuda118.so\n",
      "usage: autotrain <command> [<args>]\n",
      "AutoTrain advanced CLI: error: unrecognized arguments: True\n"
     ]
    }
   ],
   "source": [
    "!autotrain llm --train --project_name my-llm2 --model meta-llama/Llama-2-7b-hf --data_path \"/home/drmohammad/Documents/LLM/llm testing/experiment\" --train_split \"train\" --valid_split \"test\" --text_column \"text\" --use_peft --use_int4 --learning_rate 2e-4 --auto_find_batch_size True --num_train_epochs 3 --trainer sft"
   ]
  },
  {
   "cell_type": "code",
   "execution_count": null,
   "metadata": {},
   "outputs": [],
   "source": []
  }
 ],
 "metadata": {
  "interpreter": {
   "hash": "13bf4f41b44d569fb42cda98089b9a8023fba74126e96c54c8f2e63f2d74dfb7"
  },
  "kernelspec": {
   "display_name": "Python 3.9.0 ('hugging1')",
   "language": "python",
   "name": "python3"
  },
  "language_info": {
   "codemirror_mode": {
    "name": "ipython",
    "version": 3
   },
   "file_extension": ".py",
   "mimetype": "text/x-python",
   "name": "python",
   "nbconvert_exporter": "python",
   "pygments_lexer": "ipython3",
   "version": "3.9.0"
  },
  "orig_nbformat": 4
 },
 "nbformat": 4,
 "nbformat_minor": 2
}
